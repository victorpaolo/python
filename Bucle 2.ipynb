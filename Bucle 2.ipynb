{
 "cells": [
  {
   "cell_type": "code",
   "execution_count": 1,
   "metadata": {},
   "outputs": [
    {
     "name": "stdout",
     "output_type": "stream",
     "text": [
      "Ejecuta1\n",
      "Ejecuta2\n",
      "Ejecuta3\n",
      "Ejecuta4\n",
      "Ejecuta5\n",
      "Ejecuta6\n",
      "Ejecuta7\n",
      "Ejecuta8\n",
      "Ejecuta9\n",
      "Ejecuta10\n",
      "termino\n"
     ]
    }
   ],
   "source": [
    "s=1\n",
    "while s<=10:\n",
    "    print(\"Ejecuta\" + str(s))\n",
    "    s=s+1\n",
    "print(\"termino\")"
   ]
  },
  {
   "cell_type": "code",
   "execution_count": 8,
   "metadata": {},
   "outputs": [
    {
     "name": "stdout",
     "output_type": "stream",
     "text": [
      "ponlo: 11111\n",
      "es negativo, no puede ser\n",
      "ponlo de nuevo: -6\n",
      "es negativo, no puede ser\n",
      "ponlo de nuevo: 5\n",
      "edad introducida 5\n"
     ]
    }
   ],
   "source": [
    "edad=int(input(\"ponlo: \"))\n",
    "while edad<0 or edad>120:\n",
    "    print(\"es negativo, no puede ser\")\n",
    "    edad=int(input(\"ponlo de nuevo: \"))\n",
    "print(\"edad introducida \" + str(edad))"
   ]
  },
  {
   "cell_type": "code",
   "execution_count": 26,
   "metadata": {},
   "outputs": [
    {
     "name": "stdout",
     "output_type": "stream",
     "text": [
      "intro numero: 25\n",
      "la raiz es: 5.0\n"
     ]
    }
   ],
   "source": [
    "import math\n",
    "\n",
    "numero=int(input(\"intro numero: \"))\n",
    "\n",
    "intentos=0\n",
    "\n",
    "while numero<0:\n",
    "    print(\"no puede ser\")\n",
    "    \n",
    "    if intentos==2:\n",
    "        print(\"Te pasaste\")\n",
    "        break;\n",
    "        \n",
    "    numero=int(input(\"intro numero dentro bucle: \"))\n",
    "    if numero<0:\n",
    "        intentos=intentos+1\n",
    "\n",
    "if intentos<2:\n",
    "    solucion=math.sqrt(numero)\n",
    "    print(\"la raiz es: \" + str(solucion))"
   ]
  },
  {
   "cell_type": "code",
   "execution_count": 28,
   "metadata": {},
   "outputs": [
    {
     "name": "stdout",
     "output_type": "stream",
     "text": [
      "viendo letra: P\n",
      "viendo letra: y\n",
      "viendo letra: t\n",
      "viendo letra: o\n",
      "viendo letra: n\n"
     ]
    }
   ],
   "source": [
    "for letra in \"Python\":\n",
    "    if letra==\"h\":\n",
    "        continue\n",
    "    print(\"viendo letra: \"+ letra)"
   ]
  },
  {
   "cell_type": "code",
   "execution_count": 31,
   "metadata": {},
   "outputs": [
    {
     "name": "stdout",
     "output_type": "stream",
     "text": [
      "11\n"
     ]
    }
   ],
   "source": [
    "nombre=\"victor paolo\"\n",
    "contador=0\n",
    "for o in nombre:\n",
    "    if o==\" \":\n",
    "        continue\n",
    "    contador+=1\n",
    "\n",
    "print(contador)"
   ]
  },
  {
   "cell_type": "code",
   "execution_count": null,
   "metadata": {},
   "outputs": [],
   "source": []
  }
 ],
 "metadata": {
  "kernelspec": {
   "display_name": "Python 3",
   "language": "python",
   "name": "python3"
  },
  "language_info": {
   "codemirror_mode": {
    "name": "ipython",
    "version": 3
   },
   "file_extension": ".py",
   "mimetype": "text/x-python",
   "name": "python",
   "nbconvert_exporter": "python",
   "pygments_lexer": "ipython3",
   "version": "3.7.6"
  }
 },
 "nbformat": 4,
 "nbformat_minor": 4
}

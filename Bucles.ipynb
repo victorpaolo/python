{
 "cells": [
  {
   "cell_type": "code",
   "execution_count": 1,
   "metadata": {},
   "outputs": [
    {
     "name": "stdout",
     "output_type": "stream",
     "text": [
      "Hola\n",
      "Hola\n",
      "Hola\n"
     ]
    }
   ],
   "source": [
    "for j in [1,2,3]:\n",
    "    print(\"Hola\")"
   ]
  },
  {
   "cell_type": "code",
   "execution_count": 3,
   "metadata": {},
   "outputs": [
    {
     "name": "stdout",
     "output_type": "stream",
     "text": [
      "1\n",
      "2\n",
      "3\n"
     ]
    }
   ],
   "source": [
    "for i in [1,2,3]:\n",
    "    print(i)"
   ]
  },
  {
   "cell_type": "code",
   "execution_count": 5,
   "metadata": {},
   "outputs": [
    {
     "name": "stdout",
     "output_type": "stream",
     "text": [
      "Paolo Reategui 4 "
     ]
    }
   ],
   "source": [
    "for p in [\"Paolo\",\"Reategui\",4]:\n",
    "    print(p, end=\" \")"
   ]
  },
  {
   "cell_type": "code",
   "execution_count": 6,
   "metadata": {},
   "outputs": [
    {
     "name": "stdout",
     "output_type": "stream",
     "text": [
      "False\n",
      "False\n",
      "False\n",
      "False\n",
      "False\n",
      "False\n",
      "False\n",
      "False\n",
      "False\n",
      "False\n",
      "True\n",
      "False\n",
      "False\n",
      "False\n",
      "False\n",
      "False\n",
      "False\n",
      "False\n",
      "False\n",
      "False\n"
     ]
    }
   ],
   "source": [
    "email=False\n",
    "for check in \"vpreategui@gmail.com\":\n",
    "    print(check==\"@\")"
   ]
  },
  {
   "cell_type": "code",
   "execution_count": 11,
   "metadata": {},
   "outputs": [
    {
     "name": "stdout",
     "output_type": "stream",
     "text": [
      "Insert email: kjdkfjd@\n",
      "Correcto\n"
     ]
    }
   ],
   "source": [
    "intro=str(input(\"Insert email: \"))\n",
    "email=False\n",
    "for check in intro:\n",
    "    if (check==\"@\"):\n",
    "        email=True\n",
    "    \n",
    "if email==True:\n",
    "    print(\"Correcto\")\n",
    "else:\n",
    "    print(\"No correcto\")"
   ]
  },
  {
   "cell_type": "code",
   "execution_count": 16,
   "metadata": {},
   "outputs": [
    {
     "name": "stdout",
     "output_type": "stream",
     "text": [
      "Insert email: fdgdfg@fhdf.\n",
      "Correcto\n"
     ]
    }
   ],
   "source": [
    "contador=0\n",
    "mimail=str(input(\"Insert email: \"))\n",
    "\n",
    "for check in mimail:\n",
    "    if (check==\"@\" or check==\".\"):\n",
    "        contador=contador+1\n",
    "    \n",
    "if contador==2:\n",
    "    print(\"Correcto\")\n",
    "else:\n",
    "    print(\"No correcto\")"
   ]
  },
  {
   "cell_type": "code",
   "execution_count": 26,
   "metadata": {},
   "outputs": [
    {
     "name": "stdout",
     "output_type": "stream",
     "text": [
      "valor 6\n",
      "valor 7\n",
      "valor 8\n",
      "valor 9\n",
      "valor 10\n"
     ]
    }
   ],
   "source": [
    "for rango in range(6, 11):\n",
    "    print(f\"valor {rango}\")"
   ]
  },
  {
   "cell_type": "code",
   "execution_count": 29,
   "metadata": {},
   "outputs": [
    {
     "name": "stdout",
     "output_type": "stream",
     "text": [
      "Pon tu correo: dkjnsdf@\n",
      "Mail correcto\n"
     ]
    }
   ],
   "source": [
    "valido=False\n",
    "\n",
    "correo=input(\"Pon tu correo: \")\n",
    "for validar in range(len(correo)):\n",
    "    if correo[validar]==\"@\":\n",
    "        valido=True\n",
    "\n",
    "if valido:\n",
    "    print(\"Mail correcto\")\n",
    "else:\n",
    "    print(\"Mail no correcto\")\n",
    "    "
   ]
  },
  {
   "cell_type": "code",
   "execution_count": null,
   "metadata": {},
   "outputs": [],
   "source": []
  }
 ],
 "metadata": {
  "kernelspec": {
   "display_name": "Python 3",
   "language": "python",
   "name": "python3"
  },
  "language_info": {
   "codemirror_mode": {
    "name": "ipython",
    "version": 3
   },
   "file_extension": ".py",
   "mimetype": "text/x-python",
   "name": "python",
   "nbconvert_exporter": "python",
   "pygments_lexer": "ipython3",
   "version": "3.7.6"
  }
 },
 "nbformat": 4,
 "nbformat_minor": 4
}

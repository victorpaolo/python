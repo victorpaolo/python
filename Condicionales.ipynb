{
 "cells": [
  {
   "cell_type": "code",
   "execution_count": 17,
   "metadata": {},
   "outputs": [
    {
     "name": "stdout",
     "output_type": "stream",
     "text": [
      "con input\n",
      "Intro tu nota: 6\n",
      "aprobado\n"
     ]
    }
   ],
   "source": [
    "print(\"con input\")\n",
    "\n",
    "nota_alumno=int(input(\"Intro tu nota: \"))\n",
    "\n",
    "def evaluacion2(numero):\n",
    "    valoracion=\"aprobado\"\n",
    "    if numero<5:\n",
    "        valoracion=\"suspendido\"\n",
    "    return valoracion\n",
    "\n",
    "print(evaluacion2(nota_alumno))"
   ]
  },
  {
   "cell_type": "code",
   "execution_count": 14,
   "metadata": {},
   "outputs": [
    {
     "name": "stdout",
     "output_type": "stream",
     "text": [
      "con input\n",
      "6\n",
      "no puedes\n"
     ]
    }
   ],
   "source": [
    "print(\"con input\")\n",
    "\n",
    "edad_usuario=int(input())\n",
    "\n",
    "if edad_usuario<18:\n",
    "    print(\"no puedes\")\n",
    "elif edad_usuario<100:\n",
    "    print(\"error\")\n",
    "else:\n",
    "    print(\"puedes\")"
   ]
  },
  {
   "cell_type": "code",
   "execution_count": 19,
   "metadata": {},
   "outputs": [
    {
     "name": "stdout",
     "output_type": "stream",
     "text": [
      "con input\n",
      "7\n",
      "notable\n"
     ]
    }
   ],
   "source": [
    "print(\"con input\")\n",
    "\n",
    "notita=int(input())\n",
    "\n",
    "if notita<5:\n",
    "    print(\"suspenso\")\n",
    "if notita<6:\n",
    "    print(\"pasado\")\n",
    "if notita<7:\n",
    "    print(\"bien\")   \n",
    "if notita<9:\n",
    "    print(\"notable\")\n",
    "else:\n",
    "    print(\"exce\")\n"
   ]
  },
  {
   "cell_type": "code",
   "execution_count": 25,
   "metadata": {},
   "outputs": [
    {
     "name": "stdout",
     "output_type": "stream",
     "text": [
      "Intro presi: 9\n",
      "Salario presi: 9\n",
      "Intro director: 77\n",
      "Salario director: 77\n",
      "Intro tl: 6\n",
      "Salario tl: 6\n",
      "Intro pica: 55\n",
      "Salario pica: 55\n",
      "no tiene sentido\n"
     ]
    }
   ],
   "source": [
    "w_presi=int(input(\"Intro presi: \"))\n",
    "print(\"Salario presi: \" + str(w_presi))\n",
    "w_director=int(input(\"Intro director: \"))\n",
    "print(\"Salario director: \" + str(w_director))\n",
    "w_tl=int(input(\"Intro tl: \"))\n",
    "print(\"Salario tl: \" + str(w_tl))\n",
    "w_pica=int(input(\"Intro pica: \"))\n",
    "print(\"Salario pica: \" + str(w_pica))\n",
    "\n",
    "if w_presi>w_director>w_tl>w_pica:\n",
    "    print(\"esta en orden\")\n",
    "else:\n",
    "    print(\"no tiene sentido\")"
   ]
  },
  {
   "cell_type": "code",
   "execution_count": 27,
   "metadata": {},
   "outputs": [
    {
     "name": "stdout",
     "output_type": "stream",
     "text": [
      "Intro distancia: 11\n",
      "Distancia: 11\n",
      "Intro bros: 1\n",
      "Salario bros: 1\n",
      "Intro money famlia: 13000\n",
      "Salario familia: 13000\n",
      "probable que no\n"
     ]
    }
   ],
   "source": [
    "distancia=int(input(\"Intro distancia: \"))\n",
    "print(\"Distancia: \" + str(distancia))\n",
    "n_bros=int(input(\"Intro bros: \"))\n",
    "print(\"Salario bros: \" + str(n_bros))\n",
    "w_fam=int(input(\"Intro money famlia: \"))\n",
    "print(\"Salario familia: \" + str(w_fam))\n",
    "\n",
    "if distancia>12 and n_bros>2 or w_fam<12000:\n",
    "    print(\"Te la damos, tranquis\")\n",
    "else:\n",
    "    print(\"probable que no\")"
   ]
  },
  {
   "cell_type": "code",
   "execution_count": 31,
   "metadata": {},
   "outputs": [
    {
     "name": "stdout",
     "output_type": "stream",
     "text": [
      "Asignatura: lite\n",
      "try again\n",
      "Asignatura: Lite\n"
     ]
    }
   ],
   "source": [
    "asignatura=input(\"Asignatura: \").lower()\n",
    "if asignatura in (\"Mates\", \"Lite\", \"Ingles\",\"Soci\"):\n",
    "    print(\"Seleccionado\")\n",
    "else:\n",
    "    print(\"try again\")\n",
    "    asignatura=input(\"Asignatura: \").lower()\n"
   ]
  },
  {
   "cell_type": "code",
   "execution_count": null,
   "metadata": {},
   "outputs": [],
   "source": []
  }
 ],
 "metadata": {
  "kernelspec": {
   "display_name": "Python 3",
   "language": "python",
   "name": "python3"
  },
  "language_info": {
   "codemirror_mode": {
    "name": "ipython",
    "version": 3
   },
   "file_extension": ".py",
   "mimetype": "text/x-python",
   "name": "python",
   "nbconvert_exporter": "python",
   "pygments_lexer": "ipython3",
   "version": "3.7.6"
  }
 },
 "nbformat": 4,
 "nbformat_minor": 4
}
